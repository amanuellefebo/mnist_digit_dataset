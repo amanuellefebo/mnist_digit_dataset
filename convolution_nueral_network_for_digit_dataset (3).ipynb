{
 "cells": [
  {
   "cell_type": "code",
   "execution_count": 389,
   "metadata": {
    "id": "YNyExP25vTJZ"
   },
   "outputs": [],
   "source": [
    "import tensorflow as tf\n",
    "import keras\n",
    "import numpy as np\n",
    "import pandas as pd\n",
    "import matplotlib.pyplot as plt\n",
    "from keras import backend as k\n",
    "from keras.datasets import mnist"
   ]
  },
  {
   "cell_type": "code",
   "execution_count": 547,
   "metadata": {
    "colab": {
     "base_uri": "https://localhost:8080/"
    },
    "id": "HutrOyHtzWn-",
    "outputId": "5b872e51-c9bd-4f14-f859-77f1c78efde4"
   },
   "outputs": [],
   "source": [
    "(x_train,y_train),(x_test,y_test)=mnist.load_data()"
   ]
  },
  {
   "cell_type": "code",
   "execution_count": 311,
   "metadata": {
    "colab": {
     "base_uri": "https://localhost:8080/"
    },
    "id": "qpP2lzArzj8G",
    "outputId": "209d3c0c-ea29-446c-e456-5df4b523821e"
   },
   "outputs": [
    {
     "name": "stdout",
     "output_type": "stream",
     "text": [
      "Train:X=(60000, 28, 28),y=(60000,)\n"
     ]
    }
   ],
   "source": [
    "print('Train:X=%s,y=%s' %(x_train.shape,y_train.shape))"
   ]
  },
  {
   "cell_type": "code",
   "execution_count": 312,
   "metadata": {
    "colab": {
     "base_uri": "https://localhost:8080/"
    },
    "id": "2yJoGt_Rz2Av",
    "outputId": "d74f04bd-c092-4685-92d1-08dbd0fa3184"
   },
   "outputs": [
    {
     "name": "stdout",
     "output_type": "stream",
     "text": [
      "Test:X=(10000, 28, 28),y=(10000,)\n"
     ]
    }
   ],
   "source": [
    "print('Test:X=%s,y=%s'%(x_test.shape,y_test.shape))"
   ]
  },
  {
   "cell_type": "markdown",
   "metadata": {
    "id": "dyGC0lHJ0hx0"
   },
   "source": [
    "Plot first few images"
   ]
  },
  {
   "cell_type": "code",
   "execution_count": 391,
   "metadata": {
    "colab": {
     "base_uri": "https://localhost:8080/",
     "height": 433
    },
    "id": "m9D1tkDC0lDY",
    "outputId": "d7fc54cc-658e-4c86-e695-55dd502b2c13"
   },
   "outputs": [
    {
     "data": {
      "image/png": "[encoded data removed]",
      "text/plain": [
       "<Figure size 640x480 with 9 Axes>"
      ]
     },
     "metadata": {},
     "output_type": "display_data"
    }
   ],
   "source": [
    "for i in range(9):\n",
    "    plt.subplot(3,3,i+1)\n",
    "    plt.imshow(x_test[i],cmap=plt.get_cmap('gray'))\n",
    "    plt.title(y_test[i])\n",
    "    plt.axis('off')\n",
    "                                         \n",
    " "
   ]
  },
  {
   "cell_type": "code",
   "execution_count": null,
   "metadata": {},
   "outputs": [],
   "source": []
  },
  {
   "cell_type": "markdown",
   "metadata": {
    "id": "PFSWdZTLVG3-"
   },
   "source": [
    "Prepare the image dataset\n",
    "Here is a basic approach to applying a CNN on the MNIST dataset using the Python programming language and the Keras library:\n",
    "1.Load and preprocess the data: The MNIST dataset can be loaded using the Keras library, and the images can be normalized to have pixel values between 0 and 1.\n",
    "2.Define the model architecture: The CNN can be constructed using the Keras Sequential API, which allows for easy building of sequential models layer-by-layer. The architecture should typically include convolutional layers, pooling layers, and fully-connected layers.\n",
    "3.Compile the model: The model needs to be compiled with a loss function, an optimizer, and a metric for evaluation.\n",
    "4.Train the model: The model can be trained on the training set using the Keras fit() function. It is important to monitor the training accuracy and loss to ensure the model is converging properly.\n",
    "5.Evaluate the model: The trained model can be evaluated on the test set using the Keras evaluate() function. The evaluation metric typically used for classification tasks is accuracy."
   ]
  },
  {
   "cell_type": "markdown",
   "metadata": {
    "id": "1Qt-MKBcqhZ3"
   },
   "source": [
    "Reshape the dataset to have single channel"
   ]
  },
  {
   "cell_type": "code",
   "execution_count": 392,
   "metadata": {
    "colab": {
     "base_uri": "https://localhost:8080/"
    },
    "id": "DQeJTgblqvps",
    "outputId": "735f1541-d454-41dc-eabc-b117ead2c25f"
   },
   "outputs": [
    {
     "data": {
      "text/plain": [
       "60000"
      ]
     },
     "execution_count": 392,
     "metadata": {},
     "output_type": "execute_result"
    }
   ],
   "source": [
    "x_train.shape[0]"
   ]
  },
  {
   "cell_type": "code",
   "execution_count": 393,
   "metadata": {
    "id": "_fjCFCdHqIMi"
   },
   "outputs": [],
   "source": [
    "x_train=x_train.reshape(x_train.shape[0],28,28,1)"
   ]
  },
  {
   "cell_type": "code",
   "execution_count": 394,
   "metadata": {
    "id": "Z3w-ylwAranb"
   },
   "outputs": [],
   "source": [
    "x_test=x_test.reshape(x_test.shape[0],28,28,1)"
   ]
  },
  {
   "cell_type": "code",
   "execution_count": 317,
   "metadata": {},
   "outputs": [
    {
     "name": "stdout",
     "output_type": "stream",
     "text": [
      "Help on function to_categorical in module keras.src.utils.numerical_utils:\n",
      "\n",
      "to_categorical(x, num_classes=None)\n",
      "    Converts a class vector (integers) to binary class matrix.\n",
      "    \n",
      "    E.g. for use with `categorical_crossentropy`.\n",
      "    \n",
      "    Args:\n",
      "        x: Array-like with class values to be converted into a matrix\n",
      "            (integers from 0 to `num_classes - 1`).\n",
      "        num_classes: Total number of classes. If `None`, this would be inferred\n",
      "            as `max(x) + 1`. Defaults to `None`.\n",
      "    \n",
      "    Returns:\n",
      "        A binary matrix representation of the input as a NumPy array. The class\n",
      "        axis is placed last.\n",
      "    \n",
      "    Example:\n",
      "    \n",
      "    >>> a = keras.utils.to_categorical([0, 1, 2, 3], num_classes=4)\n",
      "    >>> print(a)\n",
      "    [[1. 0. 0. 0.]\n",
      "     [0. 1. 0. 0.]\n",
      "     [0. 0. 1. 0.]\n",
      "     [0. 0. 0. 1.]]\n",
      "    \n",
      "    >>> b = np.array([.9, .04, .03, .03,\n",
      "    ...               .3, .45, .15, .13,\n",
      "    ...               .04, .01, .94, .05,\n",
      "    ...               .12, .21, .5, .17],\n",
      "    ...               shape=[4, 4])\n",
      "    >>> loss = keras.ops.categorical_crossentropy(a, b)\n",
      "    >>> print(np.around(loss, 5))\n",
      "    [0.10536 0.82807 0.1011  1.77196]\n",
      "    \n",
      "    >>> loss = keras.ops.categorical_crossentropy(a, a)\n",
      "    >>> print(np.around(loss, 5))\n",
      "    [0. 0. 0. 0.]\n",
      "\n"
     ]
    }
   ],
   "source": [
    "help(keras.utils.to_categorical)"
   ]
  },
  {
   "cell_type": "code",
   "execution_count": 395,
   "metadata": {
    "id": "F21up22LXhDT"
   },
   "outputs": [],
   "source": [
    "y_train=keras.utils.to_categorical(y_train)\n",
    "y_test=keras.utils.to_categorical(y_test)"
   ]
  },
  {
   "cell_type": "markdown",
   "metadata": {
    "id": "SB-gCu3nsKau"
   },
   "source": [
    "# Prepare pixel data\n",
    "we should normalize the pixel values of grayscale image and rescale them to be in range 0 to 1"
   ]
  },
  {
   "cell_type": "code",
   "execution_count": 396,
   "metadata": {
    "id": "3Jb2QoyuXBjh"
   },
   "outputs": [],
   "source": [
    "x_train=x_train.astype('float32')\n",
    "x_test=x_test.astype('float32')\n",
    "x_train=x_train/255.0\n",
    "x_test=x_test/255.0"
   ]
  },
  {
   "cell_type": "markdown",
   "metadata": {
    "id": "MbfDoFLOYIOR"
   },
   "source": [
    "Define Model\n",
    "Explanation of the working of each layer in the CNN model:\n",
    "layer1 is the Conv2d layer which convolves the image using 32 filters each of size (3*3).\n",
    "layer2 is again a Conv2D layer which is also used to convolve the image and is using 64 filters each of size (3*3).\n",
    "layer3 is the MaxPooling2D layer which picks the max value out of a matrix of size (3*3).\n",
    "layer4 is showing Dropout at a rate of 0.5.\n",
    "layer5 is flattening the output obtained from layer4 and this flattens output is passed to layer6.\n",
    "layer6 is a hidden layer of a neural network containing 250 neurons.\n",
    "layer7 is the output layer having 10 neurons for 10 classes of output that is using the softmax function."
   ]
  },
  {
   "cell_type": "code",
   "execution_count": 320,
   "metadata": {
    "id": "NJU0zcnSYYgO"
   },
   "outputs": [],
   "source": [
    "from tensorflow.keras.models import Sequential"
   ]
  },
  {
   "cell_type": "code",
   "execution_count": 321,
   "metadata": {
    "id": "T5a-_kdiZpoI"
   },
   "outputs": [],
   "source": [
    "from tensorflow.keras.layers import Dense,Activation,Dropout,Flatten,Conv2D, MaxPooling2D,Input,BatchNormalization"
   ]
  },
  {
   "cell_type": "code",
   "execution_count": 322,
   "metadata": {
    "id": "HUdoxiy1YB-i"
   },
   "outputs": [],
   "source": [
    "model=Sequential()"
   ]
  },
  {
   "cell_type": "code",
   "execution_count": 323,
   "metadata": {
    "id": "nAgZFTEdZ4uB"
   },
   "outputs": [
    {
     "name": "stderr",
     "output_type": "stream",
     "text": [
      "C:\\Users\\ritaj\\anaconda3\\Lib\\site-packages\\keras\\src\\layers\\convolutional\\base_conv.py:99: UserWarning: Do not pass an `input_shape`/`input_dim` argument to a layer. When using Sequential models, prefer using an `Input(shape)` object as the first layer in the model instead.\n",
      "  super().__init__(\n"
     ]
    }
   ],
   "source": [
    "model.add(Conv2D(32,(3,3),activation='relu',input_shape=(28,28,1)))\n",
    "model.add(Conv2D(64,(3,3),activation='sigmoid',input_shape=(28,28,1)))\n",
    "model.add(MaxPooling2D(pool_size=((3,3))))\n",
    "model.add(Dropout(0.5))\n",
    "model.add(Flatten())\n",
    "model.add(Dense(250,activation='relu'))\n",
    "model.add(Dense(100,activation='relu'))\n",
    "model.add(Dense(10,activation='softmax'))\n"
   ]
  },
  {
   "cell_type": "markdown",
   "metadata": {
    "id": "HKOaSSWotJSG"
   },
   "source": [
    "# Compile the Model\n"
   ]
  },
  {
   "cell_type": "code",
   "execution_count": 324,
   "metadata": {
    "id": "scbpqsrdtewW"
   },
   "outputs": [],
   "source": [
    "model.compile(optimizer='adam',loss='categorical_crossentropy',metrics=['accuracy'])"
   ]
  },
  {
   "cell_type": "markdown",
   "metadata": {
    "id": "HXF8LhcQt6EI"
   },
   "source": [
    "# Train the model"
   ]
  },
  {
   "cell_type": "code",
   "execution_count": null,
   "metadata": {
    "colab": {
     "base_uri": "https://localhost:8080/"
    },
    "id": "vl3WbHbbt9fI",
    "outputId": "14bed463-c443-4b35-cac1-766864bcd22c"
   },
   "outputs": [],
   "source": [
    "model.fit(x=x_train,y=y_train,validation_data=(x_test,y_test),batch_size=128,epochs=10)"
   ]
  },
  {
   "cell_type": "code",
   "execution_count": null,
   "metadata": {
    "id": "8jadWsbcAMwt"
   },
   "outputs": [],
   "source": [
    "loss=model.history.history['loss']"
   ]
  },
  {
   "cell_type": "code",
   "execution_count": null,
   "metadata": {
    "colab": {
     "base_uri": "https://localhost:8080/",
     "height": 469
    },
    "id": "_NdPqt5TATql",
    "outputId": "663fc2f7-10d2-4d3c-a14b-cf169fc16669"
   },
   "outputs": [],
   "source": [
    "import seaborn as sns\n",
    "sns.lineplot(x=range(len(loss)),y=loss)\n",
    "plt.title('Training loss per epoch')"
   ]
  },
  {
   "cell_type": "code",
   "execution_count": null,
   "metadata": {
    "colab": {
     "base_uri": "https://localhost:8080/"
    },
    "id": "vrTa0aGcAw4c",
    "outputId": "bc15fd1b-7dec-4a72-c7a3-192c0255f38d"
   },
   "outputs": [],
   "source": [
    "model.metrics_names"
   ]
  },
  {
   "cell_type": "code",
   "execution_count": null,
   "metadata": {
    "colab": {
     "base_uri": "https://localhost:8080/"
    },
    "id": "hAAbggU6EWcx",
    "outputId": "5ea143bb-7386-4a64-84c1-3799b4859ca2"
   },
   "outputs": [],
   "source": [
    "model.save('final_model_digit.h5')"
   ]
  },
  {
   "cell_type": "markdown",
   "metadata": {
    "id": "3sOyh_CAEeGn"
   },
   "source": [
    "# How To make Prediction\n",
    "1.load the image\n",
    "2.convert the image to array\n",
    "3.reshape the single sample with 1-channel\n",
    "4.prepare the pixel data\n",
    "5.make prediction"
   ]
  },
  {
   "cell_type": "code",
   "execution_count": null,
   "metadata": {},
   "outputs": [],
   "source": [
    "from keras.models import load_model\n",
    "from numpy import argmax\n",
    "import cv2\n",
    "import numpy as np\n",
    "from numpy import argmax\n"
   ]
  },
  {
   "cell_type": "code",
   "execution_count": null,
   "metadata": {},
   "outputs": [],
   "source": [
    "model=load_model('final_model_digit.h5')"
   ]
  },
  {
   "cell_type": "code",
   "execution_count": null,
   "metadata": {},
   "outputs": [],
   "source": [
    "model.compile(optimizer='adam',loss='categorical_crossentropy',metrics=['accuracy'])"
   ]
  },
  {
   "cell_type": "code",
   "execution_count": 556,
   "metadata": {},
   "outputs": [],
   "source": [
    "def predict(filename):\n",
    "    img=cv2.imread(filename,0)\n",
    "    img=cv2.resize(img,(28,28))\n",
    "    img=np.asarray(img)\n",
    "    img=img.astype('float32')\n",
    "    img=img/255.0\n",
    "    img=np.expand_dims(img,axis=0)\n",
    "    img=np.vstack([img])\n",
    "    img=np.reshape(img,(1,28,28))\n",
    "    model=load_model('final_model_digit.h5')\n",
    "    pred=model.predict(img)\n",
    "    digit=argmax(pred)\n",
    "    \n",
    "    return digit\n",
    "    \n",
    "    "
   ]
  },
  {
   "cell_type": "markdown",
   "metadata": {},
   "source": [
    "Let us do some optimization task"
   ]
  },
  {
   "cell_type": "markdown",
   "metadata": {},
   "source": [
    "1.Batch Normalization"
   ]
  },
  {
   "cell_type": "code",
   "execution_count": null,
   "metadata": {},
   "outputs": [],
   "source": [
    "model_1=Sequential()"
   ]
  },
  {
   "cell_type": "code",
   "execution_count": null,
   "metadata": {},
   "outputs": [],
   "source": [
    "from tensorflow.keras.optimizers import SGD"
   ]
  },
  {
   "cell_type": "code",
   "execution_count": null,
   "metadata": {},
   "outputs": [],
   "source": [
    "\n",
    "model_1.add(Conv2D(32,(3,3),activation='relu',input_shape=(28,28,1)))\n",
    "model_1.add(Conv2D(64,(3,3),activation='sigmoid',input_shape=(28,28,1)))\n",
    "model_1.add(BatchNormalization())\n",
    "model_1.add(MaxPooling2D(pool_size=((3,3))))\n",
    "model_1.add(Dropout(0.5))\n",
    "model_1.add(Flatten())\n",
    "model_1.add(Dense(250,activation='relu'))\n",
    "model_1.add(Dense(100,activation='relu'))\n",
    "model_1.add(BatchNormalization())\n",
    "model_1.add(Dense(10,activation='softmax'))\n"
   ]
  },
  {
   "cell_type": "code",
   "execution_count": null,
   "metadata": {},
   "outputs": [],
   "source": [
    "model_1.compile(optimizer='adam',loss='categorical_crossentropy',metrics=['accuracy'])"
   ]
  },
  {
   "cell_type": "code",
   "execution_count": null,
   "metadata": {},
   "outputs": [],
   "source": [
    "model_1.fit(x=x_train,y=y_train,validation_data=(x_test,y_test),batch_size=128,epochs=10)"
   ]
  },
  {
   "cell_type": "code",
   "execution_count": null,
   "metadata": {},
   "outputs": [],
   "source": []
  },
  {
   "cell_type": "code",
   "execution_count": 647,
   "metadata": {
    "scrolled": true
   },
   "outputs": [
    {
     "data": {
      "image/png": "[encoded data removed]",
      "text/plain": [
       "<Figure size 640x480 with 1 Axes>"
      ]
     },
     "metadata": {},
     "output_type": "display_data"
    }
   ],
   "source": [
    "sns.lineplot(x=range(len(loss)),y=loss)\n",
    "plt.show()"
   ]
  },
  {
   "cell_type": "code",
   "execution_count": null,
   "metadata": {},
   "outputs": [],
   "source": [
    "model_1.save('improved_model.h5')"
   ]
  },
  {
   "cell_type": "code",
   "execution_count": 557,
   "metadata": {},
   "outputs": [],
   "source": [
    "def predict_1(filename):\n",
    "    img=cv2.imread(filename,0)\n",
    "    img=cv2.resize(img,(28,28))\n",
    "    img=np.asarray(img)\n",
    "    img=img.astype('float32')\n",
    "    img=img/255.0\n",
    "    img=np.expand_dims(img,axis=0)\n",
    "    img=np.vstack([img])\n",
    "    img=np.reshape(img,(1,28,28))\n",
    "    model=load_model('improved_model.h5')\n",
    "    pred=model.predict(img)\n",
    "    digit=argmax(pred)\n",
    "    \n",
    "    return digit\n",
    "    \n",
    "    "
   ]
  },
  {
   "cell_type": "markdown",
   "metadata": {},
   "source": [
    "2. Imporve the model depth"
   ]
  },
  {
   "cell_type": "code",
   "execution_count": 397,
   "metadata": {},
   "outputs": [],
   "source": [
    "model_2=Sequential()"
   ]
  },
  {
   "cell_type": "code",
   "execution_count": 398,
   "metadata": {},
   "outputs": [
    {
     "name": "stderr",
     "output_type": "stream",
     "text": [
      "C:\\Users\\ritaj\\anaconda3\\Lib\\site-packages\\keras\\src\\layers\\convolutional\\base_conv.py:99: UserWarning: Do not pass an `input_shape`/`input_dim` argument to a layer. When using Sequential models, prefer using an `Input(shape)` object as the first layer in the model instead.\n",
      "  super().__init__(\n"
     ]
    }
   ],
   "source": [
    "model_2.add(Conv2D(32,(3,3),activation='relu',input_shape=(28,28,1)))\n",
    "model_2.add(Conv2D(64,(3,3),activation='sigmoid',input_shape=(28,28,1)))\n",
    "model_2.add(Conv2D(64,(3,3),activation='sigmoid',input_shape=(28,28,1)))\n",
    "model_2.add(Conv2D(64,(3,3),activation='sigmoid',input_shape=(28,28,1)))\n",
    "model_2.add(BatchNormalization())\n",
    "model_2.add(MaxPooling2D(pool_size=((3,3))))\n",
    "model_2.add(Dropout(0.5))\n",
    "model_2.add(Flatten())\n",
    "model_2.add(Dense(250,activation='relu'))\n",
    "model_2.add(Dense(100,activation='relu'))\n",
    "model_2.add(Dense(100,activation='relu'))\n",
    "model_2.add(BatchNormalization())\n",
    "model_2.add(Dense(10,activation='softmax'))\n"
   ]
  },
  {
   "cell_type": "code",
   "execution_count": 399,
   "metadata": {},
   "outputs": [],
   "source": [
    "model_2.compile(optimizer='adam',loss='categorical_crossentropy',metrics=['accuracy'])"
   ]
  },
  {
   "cell_type": "code",
   "execution_count": 400,
   "metadata": {
    "scrolled": true
   },
   "outputs": [
    {
     "name": "stdout",
     "output_type": "stream",
     "text": [
      "Epoch 1/10\n",
      "\u001b[1m469/469\u001b[0m \u001b[32m━━━━━━━━━━━━━━━━━━━━\u001b[0m\u001b[37m\u001b[0m \u001b[1m79s\u001b[0m 162ms/step - accuracy: 0.8902 - loss: 0.3547 - val_accuracy: 0.1683 - val_loss: 7.7913\n",
      "Epoch 2/10\n",
      "\u001b[1m469/469\u001b[0m \u001b[32m━━━━━━━━━━━━━━━━━━━━\u001b[0m\u001b[37m\u001b[0m \u001b[1m95s\u001b[0m 203ms/step - accuracy: 0.9816 - loss: 0.0585 - val_accuracy: 0.2091 - val_loss: 10.6033\n",
      "Epoch 3/10\n",
      "\u001b[1m469/469\u001b[0m \u001b[32m━━━━━━━━━━━━━━━━━━━━\u001b[0m\u001b[37m\u001b[0m \u001b[1m100s\u001b[0m 213ms/step - accuracy: 0.9865 - loss: 0.0421 - val_accuracy: 0.1031 - val_loss: 25.1746\n",
      "Epoch 4/10\n",
      "\u001b[1m469/469\u001b[0m \u001b[32m━━━━━━━━━━━━━━━━━━━━\u001b[0m\u001b[37m\u001b[0m \u001b[1m99s\u001b[0m 210ms/step - accuracy: 0.9907 - loss: 0.0318 - val_accuracy: 0.2111 - val_loss: 18.6565\n",
      "Epoch 5/10\n",
      "\u001b[1m469/469\u001b[0m \u001b[32m━━━━━━━━━━━━━━━━━━━━\u001b[0m\u001b[37m\u001b[0m \u001b[1m94s\u001b[0m 200ms/step - accuracy: 0.9914 - loss: 0.0269 - val_accuracy: 0.0900 - val_loss: 42.2040\n",
      "Epoch 6/10\n",
      "\u001b[1m469/469\u001b[0m \u001b[32m━━━━━━━━━━━━━━━━━━━━\u001b[0m\u001b[37m\u001b[0m \u001b[1m98s\u001b[0m 208ms/step - accuracy: 0.9920 - loss: 0.0260 - val_accuracy: 0.1369 - val_loss: 38.6473\n",
      "Epoch 7/10\n",
      "\u001b[1m469/469\u001b[0m \u001b[32m━━━━━━━━━━━━━━━━━━━━\u001b[0m\u001b[37m\u001b[0m \u001b[1m93s\u001b[0m 198ms/step - accuracy: 0.9934 - loss: 0.0210 - val_accuracy: 0.3140 - val_loss: 12.4589\n",
      "Epoch 8/10\n",
      "\u001b[1m469/469\u001b[0m \u001b[32m━━━━━━━━━━━━━━━━━━━━\u001b[0m\u001b[37m\u001b[0m \u001b[1m94s\u001b[0m 199ms/step - accuracy: 0.9928 - loss: 0.0211 - val_accuracy: 0.5848 - val_loss: 3.6260\n",
      "Epoch 9/10\n",
      "\u001b[1m469/469\u001b[0m \u001b[32m━━━━━━━━━━━━━━━━━━━━\u001b[0m\u001b[37m\u001b[0m \u001b[1m96s\u001b[0m 204ms/step - accuracy: 0.9939 - loss: 0.0198 - val_accuracy: 0.1032 - val_loss: 37.8994\n",
      "Epoch 10/10\n",
      "\u001b[1m469/469\u001b[0m \u001b[32m━━━━━━━━━━━━━━━━━━━━\u001b[0m\u001b[37m\u001b[0m \u001b[1m94s\u001b[0m 200ms/step - accuracy: 0.9950 - loss: 0.0158 - val_accuracy: 0.2115 - val_loss: 21.0176\n"
     ]
    },
    {
     "data": {
      "text/plain": [
       "<keras.src.callbacks.history.History at 0x17c3b355310>"
      ]
     },
     "execution_count": 400,
     "metadata": {},
     "output_type": "execute_result"
    }
   ],
   "source": [
    "model_2.fit(x=x_train,y=y_train,validation_data=(x_test,y_test),batch_size=128,epochs=10)"
   ]
  },
  {
   "cell_type": "code",
   "execution_count": 401,
   "metadata": {},
   "outputs": [
    {
     "name": "stderr",
     "output_type": "stream",
     "text": [
      "WARNING:absl:You are saving your model as an HDF5 file via `model.save()` or `keras.saving.save_model(model)`. This file format is considered legacy. We recommend using instead the native Keras format, e.g. `model.save('my_model.keras')` or `keras.saving.save_model(model, 'my_model.keras')`. \n"
     ]
    }
   ],
   "source": [
    "model_2.save('final.h5')"
   ]
  },
  {
   "cell_type": "code",
   "execution_count": 402,
   "metadata": {},
   "outputs": [
    {
     "data": {
      "text/plain": [
       "<Axes: >"
      ]
     },
     "execution_count": 402,
     "metadata": {},
     "output_type": "execute_result"
    },
    {
     "data": {
      "image/png": "[encoded data removed]",
      "text/plain": [
       "<Figure size 640x480 with 1 Axes>"
      ]
     },
     "metadata": {},
     "output_type": "display_data"
    }
   ],
   "source": [
    "loss=model_2.history.history['loss']\n",
    "sns.lineplot(x=range(len(loss)),y=loss)"
   ]
  },
  {
   "cell_type": "code",
   "execution_count": 558,
   "metadata": {},
   "outputs": [],
   "source": [
    "def predict_2(filename):\n",
    "    img=cv2.imread(filename,0)\n",
    "    img=cv2.resize(img,(28,28))\n",
    "    img=np.asarray(img)\n",
    "    img=img.astype('float32')\n",
    "    img=img/255.0\n",
    "    img=np.expand_dims(img,axis=0)\n",
    "    img=np.vstack([img])\n",
    "    img=np.reshape(img,(1,28,28))\n",
    "    model=load_model('final.h5')\n",
    "    pred=model.predict(img)\n",
    "    digit=argmax(pred)\n",
    "    \n",
    "    return digit\n",
    "    \n",
    "    "
   ]
  },
  {
   "cell_type": "markdown",
   "metadata": {},
   "source": [
    "value-0:-only the first model with predict correctly predkict the value"
   ]
  },
  {
   "cell_type": "markdown",
   "metadata": {},
   "source": [
    "value 1-All three models don't predict correctly for 1_test"
   ]
  },
  {
   "cell_type": "markdown",
   "metadata": {},
   "source": [
    "value 2:- All three model predict correctly"
   ]
  },
  {
   "cell_type": "markdown",
   "metadata": {},
   "source": [
    "value 3:- only the first model predict correctly, both the revised model predict incoprrectly"
   ]
  },
  {
   "cell_type": "markdown",
   "metadata": {},
   "source": [
    "value 4:- all model predict incorrectly"
   ]
  },
  {
   "cell_type": "markdown",
   "metadata": {},
   "source": [
    "value 5: all model predict correctly"
   ]
  },
  {
   "cell_type": "markdown",
   "metadata": {},
   "source": [
    "valu 6: only the first model predict correctly, both the revised model predict incorrectly"
   ]
  },
  {
   "cell_type": "markdown",
   "metadata": {},
   "source": [
    "value 7:- all model predict incorrectly"
   ]
  },
  {
   "cell_type": "markdown",
   "metadata": {},
   "source": [
    "value 8:-only the first model predict correctly"
   ]
  },
  {
   "cell_type": "markdown",
   "metadata": {},
   "source": [
    "value 9:-only the first model predict correctly"
   ]
  },
  {
   "cell_type": "markdown",
   "metadata": {},
   "source": [
    "Remark: we the use of adding model depth as well as BatchNormalization, we get an accuracy of 0.9950 and loss 0.0150"
   ]
  }
 ],
 "metadata": {
  "colab": {
   "provenance": []
  },
  "kernelspec": {
   "display_name": "Python 3 (ipykernel)",
   "language": "python",
   "name": "python3"
  },
  "language_info": {
   "codemirror_mode": {
    "name": "ipython",
    "version": 3
   },
   "file_extension": ".py",
   "mimetype": "text/x-python",
   "name": "python",
   "nbconvert_exporter": "python",
   "pygments_lexer": "ipython3",
   "version": "3.11.4"
  }
 },
 "nbformat": 4,
 "nbformat_minor": 4
}
